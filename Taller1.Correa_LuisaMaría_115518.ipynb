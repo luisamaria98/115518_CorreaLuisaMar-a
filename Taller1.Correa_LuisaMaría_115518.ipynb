{
 "cells": [
  {
   "cell_type": "markdown",
   "metadata": {},
   "source": [
    "# Taller 1, programación. Luisa María Correa Agudelo, 115518"
   ]
  },
  {
   "cell_type": "markdown",
   "metadata": {},
   "source": [
    "## Ejercicio 1."
   ]
  },
  {
   "cell_type": "markdown",
   "metadata": {},
   "source": [
    "Sin utilizar el comando abs, escribir un programa que calcule e imprima el valor absoluto de cualquier número (sea entero o decimal)."
   ]
  },
  {
   "cell_type": "code",
   "execution_count": 2,
   "metadata": {},
   "outputs": [
    {
     "name": "stdout",
     "output_type": "stream",
     "text": [
      "Digite un número cualquiera=-45\n",
      "El valor absoluto del número es= 45.0\n"
     ]
    }
   ],
   "source": [
    "a=float(input('Digite un número cualquiera=')) #Asignación de variable al número a ingresar\n",
    "#Se dan las condiciones tanto para número positivo como negativo\n",
    "if a>0:  \n",
    "    print('El valor absoluto del número es=',a) #Si es positivo el valor absoluto es el mismo, osea a\n",
    "if a< 0:    # Si el número es negativo (menor que cero), se presenta que el número ingresado pasara a ser positivo\n",
    "    a=(a**2)**0.5  # por medio de una ecuacón de aritmetica simple\n",
    "    print('El valor absoluto del número es=',a) # Se muestra el valor absoluto del número\n",
    "    "
   ]
  },
  {
   "cell_type": "markdown",
   "metadata": {},
   "source": [
    "## Ejercicio 2."
   ]
  },
  {
   "cell_type": "markdown",
   "metadata": {},
   "source": [
    "Leer un número entero y escribirlo en reversa."
   ]
  },
  {
   "cell_type": "code",
   "execution_count": 3,
   "metadata": {},
   "outputs": [
    {
     "name": "stdout",
     "output_type": "stream",
     "text": [
      "Digite un número entero cualquiera=1234\n",
      "4321"
     ]
    }
   ],
   "source": [
    "numero=int(input('Digite un número entero cualquiera=' )) #Asignación de variable al número a ingresar\n",
    "\n",
    "contador=0 # Uso de una variable llamada contador con valor en cero, para que cada vez que se use, un nuevo número \n",
    "           #sera guardado en esta variable\n",
    "\n",
    "while numero>0:     # Comenzando por número mayor a cero\n",
    "    contador=contador +1   # Cada vez que el ciclo se da el contador suma 1\n",
    "    resta=numero%10        # Se toma una núeva variable que tiene encuenta el residuo del número ingresado.  \n",
    "    numero=int(numero/10)  # Esto se hace para que el programa divida digito por digito y sea almacenado en numero\n",
    "    print('%d' % (resta),end='')  # Presenta el resultado"
   ]
  },
  {
   "cell_type": "markdown",
   "metadata": {},
   "source": [
    "## Ejercicio 3."
   ]
  },
  {
   "cell_type": "markdown",
   "metadata": {},
   "source": [
    "Leer un número entero de 3 dígitos y determinar si contiene el dígito 8."
   ]
  },
  {
   "cell_type": "code",
   "execution_count": 4,
   "metadata": {},
   "outputs": [
    {
     "name": "stdout",
     "output_type": "stream",
     "text": [
      "Digite un número entero de 3 digitos=348\n",
      "El número 348 tiene como cifra el ocho\n"
     ]
    }
   ],
   "source": [
    "numero=int(input('Digite un número entero de 3 digitos='))  #Asignación de variable al número a ingresar\n",
    "\n",
    "if numero > 100 and numero < 1000:  # Al tener como condición que sea un número de 3 cifras, se tiene un rango que se debe cumplir \n",
    "                                     #Se asignan variables a las 3 cifras que tiene el número y posteriomente se usa aritmetica para que cad digito sea\n",
    "    cifra3=numero % 10               # guardado en ella. \n",
    "    cifra2=round((numero % 100) /10-(cifra3/10))  \n",
    "    cifra1=round((numero % 1000) /100-(numero/1000))\n",
    "   \n",
    "    if cifra1 == 8 or cifra2 == 8 or cifra3 == 8:     # Las cifras se comparan con el número que se pide osea si contiene en 8\n",
    "        print(f'El número {numero} tiene como cifra el ocho') # Por lo que se tiene las condiones mostradas\n",
    "    else:\n",
    "        print(f'El número {numero} no tiene como cifra el ocho')\n",
    "        \n",
    "elif numero < -100 and numero > -1000:        # Tambien se tendra si es un número negativo y se procede de la misma forma\n",
    "    cifra3=-numero %10\n",
    "    cifra2=round((-numero% 100)/10-((cifra3/10)))\n",
    "    cifra1=round(((numero*-1) % 1000) /100-((numero*-1)/1000))\n",
    "    if cifra1 == 8 or cifra2== 8 or cifra3== 8:\n",
    "        print(f'El número {numero} tiene como cifra el ocho')\n",
    "    else:\n",
    "        print(f'El número {numero} no tiene como cifra el ocho')\n",
    "else:\n",
    "    print('El número digitado no es de 3 cifras')   #Se tiene en cuenta si el número ingresado por el usuario no es de 3 cifras."
   ]
  },
  {
   "cell_type": "markdown",
   "metadata": {},
   "source": [
    "## Ejercicio 4."
   ]
  },
  {
   "cell_type": "markdown",
   "metadata": {},
   "source": [
    "Leer un número entero positivo y determinar la suma de sus dígitos pares."
   ]
  },
  {
   "cell_type": "code",
   "execution_count": 5,
   "metadata": {},
   "outputs": [
    {
     "name": "stdout",
     "output_type": "stream",
     "text": [
      "Digite un número entero positivo=234\n",
      "La suma de los digitos pares del número ingresado es= 6\n"
     ]
    }
   ],
   "source": [
    "numero=int(input('Digite un número entero positivo=')) #Asignación de variable al número a ingresar\n",
    "suma=0      #Uso de una variable tipo contador que guardara la información de la suma de los nu´meros pares al final\n",
    "while numero>1:       # Se resalta que se usa > 1 al ser un número entero positivo\n",
    "    digito=int(numero%10)  #Se crea una variable que almacenara los digitos del número ingresado\n",
    "    numero=numero/10       \n",
    "    if(digito%2==0):       # Al tener ya los digitos del número, estos se comparan, teniendo que si son divisibles\n",
    "        suma=suma+digito   # entre 2 y es exacto se sumaran entre si estos digitos (número pares)\n",
    "        \n",
    "print ('La suma de los digitos pares del número ingresado es=',suma) #Resultado "
   ]
  },
  {
   "cell_type": "markdown",
   "metadata": {},
   "source": [
    "## Ejercicio 5."
   ]
  },
  {
   "cell_type": "markdown",
   "metadata": {},
   "source": [
    "Leer un número entero y determinar el número de cincos que están consecutivos en un número "
   ]
  },
  {
   "cell_type": "code",
   "execution_count": 6,
   "metadata": {},
   "outputs": [
    {
     "name": "stdout",
     "output_type": "stream",
     "text": [
      "Por favor ingrese un número entero:345533\n",
      "En el número ingresado 345533 hay 2 cincos consecutivos\n"
     ]
    }
   ],
   "source": [
    "#Creación de función con respecto cuantas veces digito esta repetida en número\n",
    "def numero_rep_consecutivas(numero,digito):\n",
    "    contador= 0 #varible que tendra el número de veces que estará digito en número\n",
    "    if numero < 10: # Para número que sea de un solo digito, no habra posibilidad de repitencia\n",
    "        return contador\n",
    "    else:\n",
    "        digito_anterior=numero % 10 # Digito anterior\n",
    "        numero //= 10  # remoción del ultimo digito y este nuevo número sera guardado en numero\n",
    "        cinco=1 #Variable que representará si hay una serie del número\n",
    "        \n",
    "        while True:\n",
    "            numero1= numero % 10\n",
    "            # Se toma el ultimo digito del número \n",
    "            if (numero1==digito==digito_anterior) and\\\n",
    "            cinco:                              # La cifra digito está consecutiva en el número numero\n",
    "                contador+=2\n",
    "                cinco=0\n",
    "            elif (numero1==digito==digito_anterior) and\\\n",
    "            not cinco:\n",
    "                contador += 1\n",
    "            else:\n",
    "                cinco=1\n",
    "        \n",
    "            if numero<10 :   # Se agrega la condición cuanto el número ingresado es de solo un digito\n",
    "                return contador\n",
    "            digito_anterior= numero1\n",
    "            numero //=10 \n",
    "            \n",
    "numero=int(input('Por favor ingrese un número entero:' ))\n",
    "el_5_esta=numero_rep_consecutivas(numero,5) #Determinación de la cantida de 5 que hay en el número ingresado\n",
    "print(f'En el número ingresado {numero} hay {el_5_esta} cincos consecutivos') #Resultado en pantalla"
   ]
  },
  {
   "cell_type": "markdown",
   "metadata": {},
   "source": [
    "## Ejercicio 6. "
   ]
  },
  {
   "cell_type": "markdown",
   "metadata": {},
   "source": [
    "Leer un número entero y determinar si la suma de sus dígitos es un número de Fibonacci."
   ]
  },
  {
   "cell_type": "code",
   "execution_count": 7,
   "metadata": {},
   "outputs": [
    {
     "name": "stdout",
     "output_type": "stream",
     "text": [
      "Digite un número entero cualquiera:456\n",
      "La suma de los digitos del número 456 = 15 y no es de la serie de fibonacci\n"
     ]
    }
   ],
   "source": [
    "#Generación de funciones.La primera es para la determinación de la suma de los digitos \n",
    "def suma_digitos(numero1): #Función de la suma con respecto al número ingresado\n",
    "    contador=0              #Uso de variable contador para guardar datos en este\n",
    "    while True:  \n",
    "        dig=numero1 % 10    # Se toma el ultimo digito de numero1 \n",
    "        contador += dig\n",
    "        if numero1 < 10: #Condición para números mayores a 9.Ya que si son menores no hay digitos para ser sumados\n",
    "            return contador \n",
    "        numero1 //= 10       \n",
    "             \n",
    "            \n",
    " #Función para Fibonacci\n",
    "def fib(suma_digitos):\n",
    "    if suma_digitos<=1 :  #Se presenta condición para no tener encuenta el 0 y 1\n",
    "        fib_n_1=suma_digitos #Para obtener la serie de Fibonacci se uso el las eciaciones de (n-2), (n-1)\n",
    "    else:\n",
    "        fib_n_2=0  #Representación de (n-1)\n",
    "        fib_n_1=1  #Representación de (n-2)\n",
    "        while fib_n_2 < suma_digitos:   #Se crea la serie de Fibonacci\n",
    "            fib_n_2,fib_n_1 =\\\n",
    "            fib_n_1,fib_n_1 + fib_n_2   #Continuación de la serie \n",
    "    if fib_n_1==suma_digitos: \n",
    "        return True\n",
    "    else:\n",
    "        return False \n",
    "\n",
    "numero=int(input('Digite un número entero cualquiera:'))  #Asignación de variable al número a ingresar        \n",
    "suma=suma_digitos(numero)\n",
    "es_fibonacci=fib(suma)\n",
    "\n",
    "if es_fibonacci:\n",
    "    print(f'La suma de los digitos del número {numero} = {suma} y es de la serie de fibonacci') #Resultados para ambas condiciones\n",
    "else:\n",
    "    print(f'La suma de los digitos del número {numero} = {suma} y no es de la serie de fibonacci')"
   ]
  },
  {
   "cell_type": "markdown",
   "metadata": {},
   "source": [
    "## Ejercicio 7. "
   ]
  },
  {
   "cell_type": "markdown",
   "metadata": {},
   "source": [
    "Leer un número entero positivo y determine si existen en el número dígitos repetidos.Reporte cuales son los dígitos repetidos.    "
   ]
  },
  {
   "cell_type": "code",
   "execution_count": 8,
   "metadata": {},
   "outputs": [
    {
     "name": "stdout",
     "output_type": "stream",
     "text": [
      "Por favor ingrese un número entero positivo:456\n",
      "Ningun digito del número 456 se repite\n"
     ]
    }
   ],
   "source": [
    "#Se generan las funciones para usarlas mas adelante\n",
    "#Función para determinar cuantos digitos tiene el número ingresado por el usuario, \n",
    "def digitos_del_numero(numero):    # Función digitos con respecto al número\n",
    "    contador= 1\n",
    "    while True: \n",
    "        if numero<10:           #Se pone la condición de que si el número digitado es menor que 10 se rompa el ciclo\n",
    "            return contador \n",
    "        contador += 1\n",
    "        numero // 10\n",
    "#Función para saber cuantos veces esta repetido dicho número \n",
    "def repeticion_digito_en_numero(numero1,digito):\n",
    "    contador=-1\n",
    "    while True:\n",
    "        digito1= numero1 % 10\n",
    "        if digito1==digito:\n",
    "            contador += 1\n",
    "        if numero1<10:\n",
    "            return contador \n",
    "        numero1 //=10 \n",
    "#usando las funciones tenemos\n",
    "numero=int(input('Por favor ingrese un número entero positivo:' )) #Creación de variable para el número a ingresar\n",
    "no_hay_repeticiones=1 #Variable usada por si no hay repeticiones\n",
    " \n",
    "for i in range(0,10): # Uso de range para verificar si los números de 0,9 se repiten \n",
    "    numero_repetido=repeticion_digito_en_numero(numero,i)  # Cantidad de veces que se repite un digito en el número \n",
    "    \n",
    "    if numero_repetido>0:\n",
    "        print(f'El digito {i} del número {numero} se repite {numero_repetido}') # Se prensenta que numero es el repetido en el ingresado\n",
    "        no_hay_repeticiones=0\n",
    "    elif no_hay_repeticiones and (i==9):  # no se repiten ningun número \n",
    "        print(f'Ningun digito del número {numero} se repite')"
   ]
  },
  {
   "cell_type": "markdown",
   "metadata": {},
   "source": [
    "## Ejercicio 8. "
   ]
  },
  {
   "cell_type": "markdown",
   "metadata": {},
   "source": [
    "Iterar a través de los primeros cien enteros positivos, buscando los múltiplos de 3 e imprimiendo y almacenándolos en una lista hasta encontrar los primeros 15 de ellos. Una vez encontrados, continuar iterando en busca de los múltiplos de 4 y almacenarlos en otra lista. "
   ]
  },
  {
   "cell_type": "code",
   "execution_count": null,
   "metadata": {},
   "outputs": [],
   "source": [
    "lista=list(range(1,100+1)) #Creación de variable que contendra los números (lista)\n",
    "multiplos_3=[]             #Varible para los multiplos de 3 (lista)\n",
    "multiplos_4=[]             #Variable para los multiplos de 4 (lista)\n",
    "for i in lista:            #Ciclo desde 1 hasta 100\n",
    "    if len(multiplos_3)<15:  #Condición de longitud, revisa si se tienen ya los primeros 15 números,para pasar \n",
    "                             #los restantes\n",
    "        residuo=lista[i-1]%3  #Con el residuo igual a cero se comprueba si es multiplo de 3\n",
    "        if residuo == 0 :\n",
    "            multiplos_3.append(lista[i-1])\n",
    "    else:\n",
    "        residuo=lista[i-1]%4   # Con el residuo igual a cero se comprueba si es multiplo de 4\n",
    "        if residuo ==0 :\n",
    "            multiplos_4.append(lista[i-1])\n",
    "print('Los multiplos de 3 son:', multiplos_3)   \n",
    "print (f'Los multiplos de 4 desde {multiplos_3[len(multiplos_3)-1]} hasta el 100 son:',multiplos_4)"
   ]
  },
  {
   "cell_type": "markdown",
   "metadata": {},
   "source": [
    "## Ejercicio 9. "
   ]
  },
  {
   "cell_type": "markdown",
   "metadata": {},
   "source": [
    "Hacer un programa que lea las coordenadas (x1,y1,r1) y (x2,y2,r2) que corresponden al centro y al radio de dos círculos. Lea un punto de coordenadas (a,b). Determina si (a,b) está contenido: a) dentro del círculo 1; b) dentro del círculo 2; c) dentro de ambos círculos; d) fuera de ambos círculos. Recordemos que el círculo es el lugar geométrico de los puntos del plano cuya distancia a otro punto fijo, llamado centro, es menor o igual que una cantidad constante, llamada radio. "
   ]
  },
  {
   "cell_type": "code",
   "execution_count": null,
   "metadata": {},
   "outputs": [],
   "source": [
    "#Creación de función que determina si (a,b) esta en circulo \n",
    "def esta_dentro_circulo(x, y, r, a, b):\n",
    "    \n",
    "    return (a - x)**2 + (b- y)**2 <= r**2     # Ecuación general de un circulo, con su respectivo radio\n",
    "   \n",
    "\n",
    "print('Ingresar los datos para el primer circulo (x1,y1,r1):\\n')\n",
    "while True:\n",
    "    try: # Toma errores si x1 no es un número\n",
    "        x1 = float(input('Ingrese la coordenada en x del centro del '\n",
    "                         'círculo 1, x1 = '))\n",
    "        break\n",
    "    except ValueError:\n",
    "        print('Por favor ingrese un número para la coordenada en x. '\n",
    "              'Intente de nuevo...')\n",
    "\n",
    "while True:\n",
    "    try: # Toma errores si y1 no es un número\n",
    "        y1 = float(input('Ingrese la coordenada en y del centro del '\n",
    "                         'círculo 1, y1 = '))\n",
    "        break\n",
    "    except ValueError:\n",
    "        print('Por favor ingrese un número para la coordenada en y. '\n",
    "              'Intente de nuevo...')\n",
    "        \n",
    "while True:\n",
    "    try: # Toma errores si r1 no es un número mayor o igual que cero\n",
    "        r1 = float(input('Ingrese el radio del círculo 1, r1 = '))\n",
    "    except ValueError:\n",
    "        print('Por favor ingrese un número para el radio del círculo 1. '\n",
    "              'Intente de nuevo...')\n",
    "    else:\n",
    "        if r1 >= 0:\n",
    "            break\n",
    "        else:\n",
    "            print('Por favor ingrese un número mayor o igual que cero para '\n",
    "                  'el radio del círculo 1. Intente de nuevo...')\n",
    "\n",
    "print('\\nIngrese los datos para el círculo 2 (x2,y2,r2):\\n')\n",
    "while True:\n",
    "    try: # Toma errores si x2 no es un número\n",
    "        x2 = float(input('Ingrese la coordenada en x del centro del '\n",
    "                         'círculo 2, x2 = '))\n",
    "        break\n",
    "    except ValueError:\n",
    "        print('Por favor ingrese un número para la coordenada en x. '\n",
    "              'Intente de nuevo...')\n",
    "        \n",
    "while True:\n",
    "    try: # Toma errores si y2 no es un número\n",
    "        y2 = float(input('Ingrese la coordenada en y del centro del '\n",
    "                         'círculo 2, y2 = '))\n",
    "        break\n",
    "    except ValueError:\n",
    "        print('Por favor ingrese un número para la coordenada en y. '\n",
    "              'Intente de nuevo...')\n",
    "        \n",
    "while True:\n",
    "    try: # captura errores si r2 no es un número mayor o igual que cero\n",
    "        r2 = float(input('Ingrese el radio del círculo 2, r2 = '))\n",
    "    except ValueError:\n",
    "        print('Por favor ingrese un número para el radio del círculo 2. '\n",
    "              'Intente de nuevo...')\n",
    "    else:\n",
    "        if r2 >= 0:\n",
    "            break\n",
    "        else:\n",
    "            print('Por favor ingrese un número mayor o igual que cero para '\n",
    "                  'el radio del círculo 2. Intente de nuevo...')\n",
    "            \n",
    "print('\\nIngrese los datos de las coordenadas de un punto (a, b):\\n')\n",
    "while True:\n",
    "    try: # captura errores si a no es un número\n",
    "        a = float(input('Ingrese la coordenada en x del punto, a = '))\n",
    "        break\n",
    "    except ValueError:\n",
    "        print('Por favor ingrese un número para la coordenada en x del punto. '\n",
    "              'Intente de nuevo...')\n",
    "        \n",
    "while True:\n",
    "    try: # captura errores si b no es un número\n",
    "        b = float(input('Ingrese la coordenada en y del punto, b = '))\n",
    "        break\n",
    "    except ValueError:\n",
    "        print('Por favor ingrese un número para la coordenada en y del punto. '\n",
    "              'Intente de nuevo...')\n",
    "        \n",
    "esta_circulo_1 = esta_dentro_circulo(x1, y1, r1, a, b) # está dentro de círculo\n",
    "                                                       # 1 \n",
    "esta_circulo_2 = esta_dentro_circulo(x2, y2, r2, a, b) # está dentro de círculo\n",
    "                                                       # 2\n",
    "                                                       \n",
    "if esta_circulo_1 and not(esta_circulo_2): # (a, b) está en el círculo 1\n",
    "    print(f'El punto con coordenadas ({a},{b}) está solo en el círculo 1, con '\n",
    "          f'centro en ({x1},{y1}) y radio igual a {r1}')\n",
    "elif esta_circulo_2 and not(esta_circulo_1): # (a, b) está en el círculo 2\n",
    "    print(f'El punto con coordenadas ({a},{b}) está solo en el círculo 2, con '\n",
    "          f'centro en ({x2},{y2}) y radio igual a {r2}')  \n",
    "elif esta_circulo_1 and esta_circulo_2: # (a, b) está en los 2 círculos\n",
    "    print(f'El punto con coordenadas ({a},{b}) está dentro de ambos círculos')  \n",
    "else: # (a, b) no está en ningún círculo\n",
    "    print(f'El punto con coordenadas ({a},{b}) no está en ningún círculo') "
   ]
  },
  {
   "cell_type": "markdown",
   "metadata": {},
   "source": [
    "## Ejercicio 10."
   ]
  },
  {
   "cell_type": "markdown",
   "metadata": {},
   "source": [
    "Sin utilizar el método .upper() para cadenas,escribir un programa que lea una cadena de texto y la imprima en mayúscula."
   ]
  },
  {
   "cell_type": "code",
   "execution_count": null,
   "metadata": {},
   "outputs": [],
   "source": [
    "cadena=input(\"Entre una cadena de texto: \") #Creación de variable para la cadena a ingresar.\n",
    "\n",
    "for i in range (0,len(cadena)): #Con la longitud de la cadena ingresada se procede se tiene el rango a trabajar i \n",
    "   x=ord(cadena[i])             # Se procede a usar la funcion de ord que retorna el unicode para cada i de la cadena\n",
    "   if x>=97 and x<=260:         # Como se tiene que tener en cuenta las mayusculas, tildes y demás condiciones, se busco\n",
    "       x=x-32                   # hasta que punto y desde donde del unicode se encontraban estas letras\n",
    "   y=chr(x)                     #Cambio de ord a chr \n",
    "   print(y,end=\"\")              # Resultado "
   ]
  },
  {
   "cell_type": "markdown",
   "metadata": {},
   "source": [
    "## Ejercicio 11."
   ]
  },
  {
   "cell_type": "markdown",
   "metadata": {},
   "source": [
    " Escribir un programa que reciba una cadena de texto y reporte: \n",
    "  a) cuántas letras vocales en mayúscula se entraron;   b) cuántas letras con tilde se entraron (minúsculas y mayúsculas);  c) cuántos dígitos se entraron,   d) cuántos espacios se entraron;  e) cuántas palabras reservadas se entraron.  \n",
    " "
   ]
  },
  {
   "cell_type": "code",
   "execution_count": null,
   "metadata": {},
   "outputs": [],
   "source": [
    "# Creación de función para detectar si un caracter es una vocal mayúscula \n",
    "# (detecta también si poseén tilde)\n",
    "def es_vocal_mayus(carac):\n",
    "    \n",
    "    return  carac == 'A' or carac == 'E' or carac == 'I' or carac == 'O' or\\\n",
    "            carac == 'U' or carac == 'Á' or carac == 'É' or carac == 'Í' or\\\n",
    "            carac == 'Ó' or carac == 'Ú'\n",
    "\n",
    "# Creación  de función para separar una palabra de una cadena y devuelve la cadena sin esa \n",
    "# palabra y la palabra separada de la cadena de texto inicial\n",
    "def quita_palabra(cadena1):\n",
    "    \n",
    "    k = 0 # variable con la posición del caracter\n",
    "    palabra = '' # variable que guarda la palabra\n",
    "    while True:\n",
    "        if cadena1[k] == ' ': # si hay un espacio se termina la palabra \n",
    "            nueva_cadena = cadena1[k+1:] # la nueva cadena sin la palabra\n",
    "            \n",
    "            return nueva_cadena, palabra\n",
    "        palabra += cadena1[k]\n",
    "        k += 1\n",
    "        \n",
    "# función que determina si un caracter tiene una tilde (solo para las vocales)\n",
    "def tiene_tilde(carac2):\n",
    "    \n",
    "    return carac2.upper() == 'Á' or carac2.upper() == 'É' \\\n",
    "           or carac2.upper() == 'Í' or carac2.upper() == 'Ó' \\\n",
    "           or carac2.upper() == 'Ú'\n",
    "\n",
    "\n",
    "import keyword # importar el módulo\n",
    "\n",
    "cadena = input('Ingrese una cadena de texto = ')\n",
    "\n",
    "cuantos_digitos = 0 # Variable del número de dígitos en la cadena\n",
    "cuantos_espacios = 0 # Variable del número de espacios en la cadena\n",
    "cuantas_vocal_mayus = 0 # Variable del número de vocales en mayúsculas\n",
    "cuantas_letras_tilde = 0 # Variable del número de letras con tilde\n",
    "cuantas_pala_reservadas = 0 # Variable del número de palabras reservadas\n",
    "\n",
    "for k in range(0, len(cadena)):\n",
    "    \n",
    "    if cadena[k].isspace(): # encuentra un espacio\n",
    "        cuantos_espacios += 1\n",
    "    elif cadena[k].isdigit(): # encuentra un dígito\n",
    "        cuantos_digitos += 1\n",
    "    elif es_vocal_mayus(cadena[k]): # si una letra es vocal en mayúscula\n",
    "        cuantas_vocal_mayus += 1\n",
    "    elif tiene_tilde(cadena[k]): # encuentra una vocal con tilde \n",
    "                                 # (mayúscula o minúscula)\n",
    "        cuantas_letras_tilde += 1\n",
    "\n",
    "cadena2 = cadena # cadena que se le puede quitar la palabra\n",
    "for k1 in range(0, cuantos_espacios):\n",
    "    \n",
    "    cadena2, palabra = quita_palabra(cadena2) # encuentra una palabra\n",
    "    if keyword.iskeyword(palabra): # detecta si es una palabra reservada\n",
    "        cuantas_pala_reservadas += 1\n",
    "        \n",
    "print(f'La cadena de texto \"{cadena}\" tiene:')\n",
    "print(f'a) {cuantas_vocal_mayus} vocales en mayúscula')\n",
    "print(f'b) {cuantas_letras_tilde} vocales con tilde (mayúscula o minúscula)')\n",
    "print(f'c) {cuantos_digitos} dígitos')\n",
    "print(f'd) {cuantos_espacios} espacios')\n",
    "print(f'e) {cuantas_pala_reservadas} palabras reservadas') "
   ]
  },
  {
   "cell_type": "markdown",
   "metadata": {},
   "source": [
    "## Ejercicio 12."
   ]
  },
  {
   "cell_type": "markdown",
   "metadata": {},
   "source": [
    "Hacer un programa que lea dos palabras (podrían estar en mayúscula o minúscula) y determine cual está primero en el diccionario. El programa debe soportar letras con tilde, la ü y la ñ. "
   ]
  },
  {
   "cell_type": "code",
   "execution_count": null,
   "metadata": {},
   "outputs": [],
   "source": [
    "#Creación de función para el ejercicio\n",
    "def cadena_a_mayuscula(cadena_en):\n",
    "    \n",
    "    cadena_mayus = '' # Creacion de una variable para la cadena de texto ingresada  para mayusculas \n",
    "                          \n",
    "    error = 0 # Variable que indicara si hay un error \n",
    "              # (1 hay error : 0 no hay error)  \n",
    "    \n",
    "    for i in range(0, len(cadena_en)):\n",
    "    \n",
    "        if cadena_en[i] == ' ': # Encuentra un espacio\n",
    "            error = 1\n",
    "            return cadena_mayus, error\n",
    "        elif cadena_en[i].isnumeric() or \\\n",
    "        not(cadena_en[i].isalpha()): # Error si hay un número en la cadena o un \n",
    "                                     # caracter que no sea una letra\n",
    "            error = 1\n",
    "            return cadena_mayus, error          \n",
    "        elif cadena_en[i].isupper(): # si una letra ya esta en mayúscula la eja como esta\n",
    "                                     \n",
    "            cadena_mayus += cadena_en[i]\n",
    "        else: # Convierte la letra en mayúscula\n",
    "            cadena_mayus += chr(ord(cadena_en[i]) - 32) \n",
    "            \n",
    "    if cadena_en == '': # Evita el error si no se ingresa nada\n",
    "        error = 1\n",
    "        return cadena_mayus, error\n",
    "            \n",
    "    return cadena_mayus, error\n",
    "\n",
    "\n",
    "cadena1 = input('Ingrese la primera palabra, porfavor que no contenga números = ')\n",
    "\n",
    "cadena2 = input('Ingrese la ultima palabra, porfavor  que no contenga números = ')\n",
    "\n",
    "cadena_mayus1, error1 = cadena_a_mayuscula(cadena1) # Cambia la cadena a mayúscula y determina \n",
    "                                                    # posibles errores\n",
    "                                                    \n",
    "cadena_mayus2, error2 = cadena_a_mayuscula(cadena2) # Cambia la cadena a mayúscula y determina y determina posibles errores\n",
    "                                                                                                                                                          \n",
    "if error1 or error2: # si se presenta un error en las cadenas de texto\n",
    "\n",
    "    print('Error: Las cadenas de texto ingresados poseén un número o contiene'\n",
    "          ' un carácter diferente de una letra o es más de una palabra')\n",
    "else:\n",
    "    if cadena_mayus1 < cadena_mayus2: # cadena1 está primero\n",
    "        print(f'La palabra {cadena1} está primero en el diccionario que'\n",
    "              f' la palabra {cadena2}')\n",
    "    elif cadena_mayus2 < cadena_mayus1: # cadena2 está primero\n",
    "        print(f'La palabra {cadena2} está primero en el diccionario que'\n",
    "              f' la palabra {cadena1}')\n",
    "    else: # cadena1 es igual a cadena2\n",
    "        print('Las palabras {cadena1} y {cadena2} son iguales') "
   ]
  },
  {
   "cell_type": "markdown",
   "metadata": {},
   "source": [
    "## Ejercicio 13."
   ]
  },
  {
   "cell_type": "markdown",
   "metadata": {},
   "source": [
    "Escribir un programa que lea una cadena de texto y la imprima como un triángulo."
   ]
  },
  {
   "cell_type": "code",
   "execution_count": null,
   "metadata": {},
   "outputs": [],
   "source": [
    "cadena = input('Ingrese una cadena de texto = ') # Se crea una variable para la cadena a ingresar \n",
    "cadena = cadena.replace(' ', '')                 \n",
    "\n",
    "numero_letras = 1 # Nombre de variable que se usara como contador con respecto al número de letras por fila\n",
    "ind_cadena = 0 # Variable del indice de la cadena\n",
    "print('\\n')\n",
    "\n",
    "while len(cadena[ind_cadena:]) >= numero_letras:\n",
    "       \n",
    "    print(cadena[ind_cadena:ind_cadena + numero_letras].center(int(len(cadena)/5)))    # Imprime el texto por fila y lo centra\n",
    "    \n",
    "    ind_cadena += numero_letras # Modificación del indice de la cadena\n",
    "    numero_letras += 2\n",
    "    \n",
    "    \n",
    "print(cadena[ind_cadena:].center(int(len(cadena)/5)))  # Resultado"
   ]
  },
  {
   "cell_type": "markdown",
   "metadata": {},
   "source": [
    "## Ejercicio 14."
   ]
  },
  {
   "cell_type": "markdown",
   "metadata": {},
   "source": [
    "Leer una cadena de texto y organice alfabéticamente cada una de las letras que la componen, repitiendo cada una tantas veces como se encuentra."
   ]
  },
  {
   "cell_type": "code",
   "execution_count": null,
   "metadata": {},
   "outputs": [],
   "source": [
    "cadena=input('Por favor escriba una cadena de texto:' ) #Creación de variable par la cadena \n",
    "cadena_lista=list(cadena) #Transforma cadena en lista para trabajar con ella de manera más sencilla \n",
    "\n",
    "for i in range(len(cadena_lista)):  #Ciclo, con la obtención del rango de la cadena en función de su longitud\n",
    "    if ' ' in cadena_lista:         #Por si se presentan espacios estos seran removidos \n",
    "        cadena_lista.remove(' ')\n",
    "    cadena_lista.sort()             #Se ordena de manera alfabetica \n",
    "for a in range(len(cadena_lista)):  #Se presenta la cadena nueva sin espacios \n",
    "    print(cadena_lista[a],end='')   #Resultado"
   ]
  },
  {
   "cell_type": "markdown",
   "metadata": {},
   "source": [
    "## Ejercicio 15. "
   ]
  },
  {
   "cell_type": "markdown",
   "metadata": {},
   "source": [
    "Leer una lista de números enteros y enumerar cuantos elementos se repiten exactamente dos veces. Utilizar para tal fin el método count() de listas. "
   ]
  },
  {
   "cell_type": "code",
   "execution_count": null,
   "metadata": {},
   "outputs": [],
   "source": [
    "lista=[] #Creación de variable para almacenar la lista ingresado por usuario(tipo lista)\n",
    "lista2=[] # Creaciónde variable tipo lista (elemento vacio)\n",
    "\n",
    "\n",
    "longitud = int(input('Favor decir el tamaño de la lista: '))  #Tamaño de los datos a obtener\n",
    "\n",
    "while longitud< 0:\n",
    "    print('Error, no se puede tener longitudes negativas') #La longitud de la lista no es valida \n",
    "    longitud = int(input('Favor decir  el tamaño de la lista: ')) #Comienza el ciclo nuevamente\n",
    "\n",
    "else:    \n",
    "\n",
    "    for i in range(longitud):\n",
    "        lista.append(int(input(f'Escriba el digito # {i+1} de la lista: ')))\n",
    "\n",
    "o=min(lista) #Rango para la lista para la iteración  \n",
    "f=max(lista) \n",
    "for a in range(o,f+1): #Iteración del programa \n",
    "    \n",
    "    \n",
    "    if lista.count(a)==2: # Repeticiones igual a 2 veces\n",
    "        lista2.append(a) #Agrega a la lista de los repetidos\n",
    "        \n",
    "print('existen',len(lista2),'numeros que se repiten 2 veces exactamente y son:',lista2)"
   ]
  }
 ],
 "metadata": {
  "kernelspec": {
   "display_name": "Python 3",
   "language": "python",
   "name": "python3"
  },
  "language_info": {
   "codemirror_mode": {
    "name": "ipython",
    "version": 3
   },
   "file_extension": ".py",
   "mimetype": "text/x-python",
   "name": "python",
   "nbconvert_exporter": "python",
   "pygments_lexer": "ipython3",
   "version": "3.7.3"
  }
 },
 "nbformat": 4,
 "nbformat_minor": 2
}

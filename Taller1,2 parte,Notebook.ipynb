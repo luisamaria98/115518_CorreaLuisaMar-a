{
 "cells": [
  {
   "cell_type": "markdown",
   "metadata": {},
   "source": [
    "# Taller1,segunda parte.Luisa María Correa 115518"
   ]
  },
  {
   "cell_type": "markdown",
   "metadata": {},
   "source": [
    "## Ejercicio 16."
   ]
  },
  {
   "cell_type": "markdown",
   "metadata": {},
   "source": [
    "Leer una lista de números ya ordenados de forma ascendente y verificar que dicha lista está ordenada. Luego, leer un número e insertarlo en la lista en la posición que le corresponde a dicho número"
   ]
  },
  {
   "cell_type": "code",
   "execution_count": null,
   "metadata": {},
   "outputs": [],
   "source": [
    "longitud=int(input('Digite de que longitud quiere que sea la lista: ')) #Creación de variable que guarda la longitud de la lista\n",
    "                                                                        # de números a ingresar\n",
    "lista=[] #Creació de variable (vacia) tipo lista\n",
    "for i in range(0,longitud): #Ciclo, donde de acuerdo a la longitud de la lista los números ingresados se guardaran en lista.\n",
    "    lista.append(int(input('Inserte número deseado: ')))  #Cada número ingresado sera guardado en lista\n",
    "      \n",
    "esta_ordenada=[] #Creacion de variable tipo lista, verificación de si lista esta ordenada\n",
    "esta_ordenada=sorted(lista) #Lista esta ordenada,verificación si números ingresados en lista estan en orden\n",
    "\n",
    "for i in range(0,len(lista)):  #Ciclo que comprende longitud de lista para verificacion de orden \n",
    "    if lista[i]!=esta_ordenada[i]:\n",
    "        print ('La lista no se encuentra ordenada') #Se recalca que lista ingresada por usuario no esta ordenada\n",
    "        break  \n",
    "numero_adicional=(int(input('Inserte un numero adicional a la lista: '))) # Al ser ya comprobado el orden de lista, ahora se pide\n",
    "lista.append(numero_adicional)    #Numero adicional es agregado a lista                                                      \n",
    "esta_ordenada2=[]                 #variabletipo lista, comprobación de orden con número adicional\n",
    "esta_ordenada2=sorted(lista)      #Con número adicional, se coloca en lista de forma que queda ordenada\n",
    "print(f'El orden de la lista ingresada por usuario es {esta_ordenada2}')    "
   ]
  },
  {
   "cell_type": "markdown",
   "metadata": {},
   "source": [
    "## Ejercico 17."
   ]
  },
  {
   "cell_type": "markdown",
   "metadata": {},
   "source": [
    " Leer una lista y determinar cuál es el segundo elemento más grande de dicha lista.No utilice ningún tipo de algoritmo de ordenamiento para realizar este ejercicio."
   ]
  },
  {
   "cell_type": "code",
   "execution_count": null,
   "metadata": {},
   "outputs": [],
   "source": [
    "lista=[] #Creación de variable (tipo lista vacia) para almacenamiento de datos ingresados por usuario\n",
    "contador=[] #Variable que almacenara los números mayores hasta el momento \n",
    "          \n",
    "longitud=int(input('Ingrese la longitud de la lista de números: '))#Longitud de la lista \n",
    "                                                           \n",
    "for i in range(longitud): #Ciclo con la cual se tiene la obtencion de valores de la lista (recolección)\n",
    "    lista.append(float(input(f'Escriba el número {i+1} de la lista ordenada: ')))\n",
    "parar=lista[0] #Se selecciona el primer número de lista coo contador para verificar hasta donde se para, \n",
    "               #generación de condicion parar\n",
    "\n",
    "for i in range(len(lista)):#Ciclo en donde se tiene encuenta el rango de la lista ingresada, en i\n",
    "    if lista[i]>parar:     #donde compara el contador con el numero i de la lista\n",
    "        parar=lista[i]     \n",
    "                         \n",
    "        contador.append(parar) #Almacenamiento de número actual\n",
    "print(f'El segundo mayor numero de la lista es {contador[len(contador)-2]} \\\n",
    "y se encuetra en la posicion numero {lista.index(contador[len(contador)-2])+1} \\\n",
    "de la lista') #Indica el contador en posición 2 "
   ]
  },
  {
   "cell_type": "markdown",
   "metadata": {},
   "source": [
    "## Ejercicio 18. "
   ]
  },
  {
   "cell_type": "markdown",
   "metadata": {},
   "source": [
    "Leer una matriz cuadrada A, obtener su matriz triangular superior asociada U y determinar qué fila de U contiene la mayor cantidad de unos."
   ]
  },
  {
   "cell_type": "code",
   "execution_count": null,
   "metadata": {},
   "outputs": [],
   "source": [
    "#Variables adicionales para el ejercicio\n",
    "a=[]  #Lista vacia, se usara para decir que la matriz de rango matriz esta en cero\n",
    "U=[]  #Variable utilizada en ejercicio \n",
    "contador1=[] #Variable contador \n",
    "\n",
    "matriz=int(input('Digite de que orden es su matriz cuadrada: ')) #Creación de variable (lista) que representa la matriz\n",
    "                                                                # y ademas ya se esta especificando al usuario que digite \n",
    "                                                                #el tamaño de dicha matriz.\n",
    "\n",
    "for i in range(matriz): #Iteración de la matriz en su rango \n",
    "      a.append([]) \n",
    "      for j in range (matriz):  #Ciclo para la recoleccion de datos de la matriz         \n",
    "         a[i].append(int(input(f'Digite el número {j+1} de la fila: ')))\n",
    "          \n",
    "U=a.copy()      #Se copia la matriz a una nueva variable U que se editara\n",
    "for i in range(matriz): \n",
    "      for j in range (matriz):          \n",
    "         if i<=j:           #Condición impuesta en la parte superior de la matriz \n",
    "             U[i][j]=a[i][j]#Si la matriz cumple con las condiciones impuestas se dejara igual\n",
    "         else:\n",
    "             U[i][j]=0  #Si se cumple la condicion se coloca el cero en dicha \n",
    "                        #posicion de la matriz U\n",
    "\n",
    "print('La matriz triangular U es la siguiente: ')\n",
    "for i in range(matriz):           \n",
    "    print(a[i], end=' ') #Muestra la matriz de manera vectorial\n",
    "    print()  #Imprimela matriz de manera mas entendible \n",
    "#Creación de función para contar los unos en la matriz   \n",
    "def contar(i): \n",
    "    contador=0       #Creación de contador con valor cero\n",
    "    for j in range (matriz):\n",
    "        if U[i][j]==1:\n",
    "            contador+=1\n",
    "    return contador\n",
    "            \n",
    "for i in range(matriz):      #Almacenamiento de datos en función de contar en nueva matriz\n",
    "    contador1.append(contar(i))\n",
    "    \n",
    "maximo= 0    #Creación de variable cero para la determinación del mayor valor de matriz\n",
    "for m in range(len(contador1)):  \n",
    "    if contador1[m]> maximo:\n",
    "        maximo= contador1[m]\n",
    "        fila=m+1 #Almacenamiento del valor de la fila correspondiente a ser mayor en matriz\n",
    "print('La fila con más unos es la:',fila) #Resultados "
   ]
  },
  {
   "cell_type": "markdown",
   "metadata": {},
   "source": [
    "## Ejercicio19. "
   ]
  },
  {
   "cell_type": "markdown",
   "metadata": {},
   "source": [
    "Leer una lista e identifique la sublista más larga dentro de dicha lista que se encuentra ordenada ascendentemente\n"
   ]
  },
  {
   "cell_type": "code",
   "execution_count": null,
   "metadata": {},
   "outputs": [],
   "source": [
    "cantidad=int(input('Digite la cantidad de elementos deseados en la lista: ')) #Creación de variable para laobtención de dato de cantidad\n",
    "lista=[]                                                                      #de elemntos en lista\n",
    "for i in range(cantidad):                                                     #Con cantidad se da ciclo para obtener los datos de lista\n",
    "    lista.append((input('Ingrese los elemento de lista '+str(i+1)+': ')))\n",
    "sublista=[]    #Variable tipo lista donde de guardara cada sublista de numeros en orden \n",
    "tamaño=[]      #Tamaño de cada sublista\n",
    "for i in range(len(lista)-1):\n",
    "    sublista.append([])      #Creación de sublista \n",
    "    sublista[i].append(lista[i])  #Cada elemento analalizado i es agregado\n",
    "    for j in range(i+1,len(lista)):\n",
    "        if lista[j-1]<=lista[j]:\n",
    "            sublista[i].append(lista[j])\n",
    "        else:\n",
    "            break\n",
    "    tamaño.append(len(sublista[i])) #Ingresa en tamaño de cada sublista \n",
    "cantmayor=tamaño.count(max(tamaño)) #Maximo número en cada sublista, existe un maximo\n",
    "posicion=tamaño.index(max(tamaño)) #posicón de la primera sublista con más elementos encontrados \n",
    "lista2=[]\n",
    "if (cantmayor==1):\n",
    "    print('La sublista más larga ordenada ascendentemente es:', sublista[posicion])\n",
    "else:\n",
    "    a=-1   #Valor de posición para la obtención de maximo\n",
    "    for i in range(cantmayor):\n",
    "        a=tamaño.index(max(tamaño),a+1)\n",
    "        lista2.append(sublista[a])\n",
    "    print('Las sublistas más largas ordenada ascendentemente son:' ,lista2)\n",
    "    "
   ]
  },
  {
   "cell_type": "markdown",
   "metadata": {},
   "source": [
    "## Ejercicio 20. "
   ]
  },
  {
   "cell_type": "markdown",
   "metadata": {},
   "source": [
    "Hacer un programa que lea una matriz y la rote 90 grados en sentido antihorario. Imprimir la matriz resultante."
   ]
  },
  {
   "cell_type": "code",
   "execution_count": null,
   "metadata": {},
   "outputs": [],
   "source": [
    "#Generación de variables para el programa\n",
    "matriz_orig=[] #Variable para la matriz original\n",
    "matriz_rot=[] #Variable para la matriz rotada\n",
    "\n",
    "#Generación de variables de filas y columnas para la matriz \n",
    "filas=int(input('Ingrese el # de filas que desea tener en la matriz: ')) #Valor de filas en matriz\n",
    "columnas=int(input('Ingrese el # de columnas que desea tener en la matriz: ')) #Valor de colmunas en matriz\n",
    "\n",
    "for i in range(filas): #Iteración de la variable filas con respecto a su rango\n",
    "      matriz_orig.append([]) #A la matriz con respecro al rango ingresado se obtendra i valores en filas\n",
    "      for j in range (columnas):          #Iteración de columnas con valor ya dado\n",
    "         matriz_orig[i].append(int(input(f'Escriba el número en {j+1} de la fila {i+1}: ')))\n",
    "\n",
    "for i in range(columnas): #Iteración de la variable columnas con respecto a su rango\n",
    "    matriz_rot.append([]) \n",
    "    for j in range (filas):    ##Iteración de filas con valor ya dado\n",
    "          \n",
    "        matriz_rot[i].append(matriz_orig[j][columnas-1-i])#Con la posición de matriz original y teniendo en cuenta \n",
    "                                 #que para que se de el giro de la matriz rot se usa relación matematica entre ambas\n",
    "                                 #en función de i y j \n",
    "print()\n",
    "print('La matriz original ingresada manualmente es la siguiente:')                                 \n",
    "for i in range(filas):           \n",
    "    print(matriz_orig[i], end=' ') #Impresión de resultados \n",
    "    print()  #Impresion de resultados de manera mas entendible  \n",
    "\n",
    "print()\n",
    "print('La matriz rotada a 90 grados, con datos de matriz original es la siguiente:')       \n",
    "for i in range(columnas):           \n",
    "    print(matriz_rot[i], end=' ') #Impresión de resultados\n",
    "    print()  #Impresion de resultados de manera mas entendible   "
   ]
  },
  {
   "cell_type": "markdown",
   "metadata": {},
   "source": [
    "Usando numpy"
   ]
  },
  {
   "cell_type": "code",
   "execution_count": null,
   "metadata": {},
   "outputs": [],
   "source": [
    "matriz=[]  #Creacion de variable (tipo lista vacia), para ser almacenada mas adelante\n",
    "           # por datos suminitrados por usuario\n",
    "            \n",
    "filas=int(input('Ingrese el # de filas que desea tener en la matriz: ')) #Variable para pedir al usuario el número de\n",
    "                                                                         #filas qu desea para su matriz\n",
    "columnas=int(input('Ingrese el # de columnas que desea tener en la matriz: ')) #Variable para pedir al usuario número  de\n",
    "                                                                              #columnas que desea para su matriz\n",
    "for i in range(filas):  #Ciclo que itera con el valor ingresado de filas para ser despues agregado un 'espacio'\n",
    "                         #correspondiente  []\n",
    "      matriz.append([]) \n",
    "      for j in range (columnas):#Ciclo que itera con valor de las columnas con respecto a i de las filas    \n",
    "         matriz[i].append(int(input(f'Escriba el número en {j+1} de la fila {i+1}: '))) #Creacion de matriz con valores\n",
    "                                                                                        #ingresadas por usuario\n",
    "for i in range(filas):      #Ciclo usado para visualizar el contenido ingresado por usuario y ser impreso     \n",
    "    print(matriz[i], end=' ') #como una matriz \n",
    "    print() \n",
    "\n",
    "import numpy as np #Usando libreria numpy y rot se llama a la matriz ya ingresada por usuario y muestra su rotacion\n",
    "np.rot90(matriz)   #en 90 grados       "
   ]
  }
 ],
 "metadata": {
  "kernelspec": {
   "display_name": "Python 3",
   "language": "python",
   "name": "python3"
  },
  "language_info": {
   "codemirror_mode": {
    "name": "ipython",
    "version": 3
   },
   "file_extension": ".py",
   "mimetype": "text/x-python",
   "name": "python",
   "nbconvert_exporter": "python",
   "pygments_lexer": "ipython3",
   "version": "3.7.3"
  }
 },
 "nbformat": 4,
 "nbformat_minor": 2
}
